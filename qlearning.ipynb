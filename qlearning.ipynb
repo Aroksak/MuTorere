{
 "cells": [
  {
   "cell_type": "code",
   "execution_count": 1,
   "metadata": {
    "collapsed": true
   },
   "outputs": [
    {
     "name": "stdout",
     "output_type": "stream",
     "text": [
      "pygame 2.1.2 (SDL 2.0.16, Python 3.10.1)\n",
      "Hello from the pygame community. https://www.pygame.org/contribute.html\n"
     ]
    }
   ],
   "source": [
    "from collections import defaultdict\n",
    "\n",
    "import numpy as np\n",
    "from tqdm import trange\n",
    "\n",
    "import mutorere"
   ]
  },
  {
   "cell_type": "code",
   "execution_count": 2,
   "outputs": [],
   "source": [
    "env = mutorere.env()"
   ],
   "metadata": {
    "collapsed": false,
    "pycharm": {
     "name": "#%%\n"
    }
   }
  },
  {
   "cell_type": "code",
   "execution_count": 3,
   "outputs": [],
   "source": [
    "def bin_arr_to_int(arr):\n",
    "    return arr.dot(1 << np.arange(arr.size)[::-1])\n",
    "\n",
    "\n",
    "def int_to_bin_arr(n, width=None):\n",
    "    return np.frombuffer(np.binary_repr(n, width=width).encode(), dtype='S1').astype(np.int8)\n",
    "\n",
    "\n",
    "def reverse_bit(num):\n",
    "    result = 0\n",
    "    while num:\n",
    "        result = (result << 1) + (num & 1)\n",
    "        num >>= 1\n",
    "    return result\n",
    "\n",
    "\n",
    "def prepare_output(rank, n_kewai, putahi=0):\n",
    "    kewai = int_to_bin_arr(rank, width=n_kewai) * 2 - 1\n",
    "    if putahi == 0:\n",
    "        return np.append(kewai, 0)\n",
    "    else:\n",
    "        return np.append(np.insert(kewai, 0, 0), putahi)\n",
    "\n",
    "\n",
    "def normalize_state(state):\n",
    "    state = state.T[0] - state.T[1]\n",
    "    putahi = state[-1]\n",
    "    if putahi == 0:\n",
    "        kewai = state[:-1]\n",
    "        kewai = np.clip(kewai, 0, 1)\n",
    "        shifts = [(bin_arr_to_int(np.roll(kewai, shift)), shift) for shift in range(kewai.size)]\n",
    "        (max_rank, max_shift), (min_rank, min_shift) = max(shifts), min(shifts)\n",
    "        if (reversed_min := reverse_bit(min_rank)) > max_rank:\n",
    "            return prepare_output(reversed_min, 8), min_shift, True\n",
    "        else:\n",
    "            return prepare_output(max_rank, 8), max_shift, False\n",
    "    else:\n",
    "        kewai = state[:-1]\n",
    "        shift = -np.where(kewai == 0)[0].item() % kewai.size\n",
    "        kewai = np.roll(kewai, shift)[1:]\n",
    "        kewai = np.clip(kewai, 0, 1)\n",
    "        straight_rank = bin_arr_to_int(kewai)\n",
    "        reversed_rank = bin_arr_to_int(kewai[::-1])\n",
    "        if straight_rank >= reversed_rank:\n",
    "            return prepare_output(straight_rank, 7, putahi), shift, False\n",
    "        else:\n",
    "            return prepare_output(reversed_rank, 7, putahi), shift, True\n",
    "\n",
    "def apply_shift_mirror(arr, shift, mirror, putahi):\n",
    "    putahi_action = arr[-1]\n",
    "    arr = np.roll(arr[:-1], shift)\n",
    "    if mirror:\n",
    "        if putahi == 0:\n",
    "            arr = arr[::-1]\n",
    "        else:\n",
    "            arr = np.insert(arr[1:][::-1], 0, 0)\n",
    "    return np.append(arr, putahi_action)"
   ],
   "metadata": {
    "collapsed": false,
    "pycharm": {
     "name": "#%%\n"
    }
   }
  },
  {
   "cell_type": "code",
   "execution_count": 4,
   "outputs": [],
   "source": [
    "def get_q_row_factory(n_kewai=8):\n",
    "    def q_row_factory():\n",
    "        return np.zeros(n_kewai + 1)\n",
    "    return q_row_factory\n",
    "\n",
    "\n",
    "class MuTorereAgent:\n",
    "    def __init__(self, n_kewai=8, eps_start=1., eps_decay=0.999, eps_min=0.05, gamma=0.9):\n",
    "        self.q_table = defaultdict(get_q_row_factory(n_kewai=n_kewai))\n",
    "        self.n_kewai = n_kewai\n",
    "        self.eps = eps_start\n",
    "        self.eps_decay = eps_decay\n",
    "        self.eps_min = eps_min\n",
    "        self.gamma = gamma\n",
    "        self.last_observation = None\n",
    "        self.last_action = None\n",
    "\n",
    "    def random_policy(self, observation, action_mask):\n",
    "        self.q_table[observation] = np.ma.masked_array(self.q_table[observation], mask=1-action_mask)\n",
    "        return np.random.choice(np.arange(action_mask.size), p=action_mask/action_mask.sum())\n",
    "\n",
    "    def q_policy(self, observation, action_mask):\n",
    "        self.q_table[observation] = np.ma.masked_array(self.q_table[observation], mask=1-action_mask)\n",
    "        return np.argmax(self.q_table[observation])\n",
    "\n",
    "    def epsilon_policy(self, observation, action_mask):\n",
    "        if np.random.random() < self.eps:\n",
    "            return self.random_policy(observation, action_mask)\n",
    "        else:\n",
    "            return self.q_policy(observation, action_mask)\n",
    "\n",
    "    def decay_epsilon(self):\n",
    "        self.eps = max(self.eps * self.eps_decay, self.eps_min)\n",
    "\n",
    "    def reset(self):\n",
    "        self.last_observation = None\n",
    "        self.last_action = None\n",
    "\n",
    "    def play_turn(self, env, eval=False):\n",
    "        observation_dict, reward, done, info = env.last()\n",
    "        observation, action_mask = observation_dict['observation'], observation_dict['action_mask']\n",
    "        observation, shift, mirror = normalize_state(observation)\n",
    "        action_mask = apply_shift_mirror(action_mask, shift, mirror, observation[-1])\n",
    "\n",
    "        if not eval:\n",
    "            if self.last_observation is not None:\n",
    "                if done:\n",
    "                    self.q_table[np.array2string(self.last_observation)][self.last_action] = reward\n",
    "                    env.step(None)\n",
    "                    return\n",
    "                else:\n",
    "                    self.q_table[np.array2string(self.last_observation)][self.last_action] = self.gamma * np.max(self.q_table[np.array2string(observation)])\n",
    "        elif done:\n",
    "            env.step(None)\n",
    "            return\n",
    "\n",
    "        if eval:\n",
    "            self.eps = self.eps_min\n",
    "            denorm_action = self.epsilon_policy(np.array2string(observation), action_mask)\n",
    "        else:\n",
    "            self.last_action = denorm_action = self.epsilon_policy(np.array2string(observation), action_mask)\n",
    "        if denorm_action != self.n_kewai:\n",
    "            if mirror:\n",
    "                denorm_action = self.n_kewai - denorm_action\n",
    "            denorm_action = (denorm_action - shift) % self.n_kewai\n",
    "        env.step(denorm_action)\n",
    "        if not eval:\n",
    "            self.last_observation = observation\n",
    "            self.decay_epsilon()"
   ],
   "metadata": {
    "collapsed": false,
    "pycharm": {
     "name": "#%%\n"
    }
   }
  },
  {
   "cell_type": "code",
   "execution_count": 5,
   "outputs": [
    {
     "name": "stderr",
     "output_type": "stream",
     "text": [
      "100%|██████████| 100/100 [00:05<00:00, 17.05it/s]\n"
     ]
    }
   ],
   "source": [
    "N_GAMES = 100\n",
    "agents = {name: MuTorereAgent() for name in env.possible_agents}\n",
    "\n",
    "for game_idx in trange(N_GAMES):\n",
    "    env.reset()\n",
    "    for agent in agents.values():\n",
    "        agent.reset()\n",
    "\n",
    "    for agent_name in env.agent_iter():\n",
    "        agents[agent_name].play_turn(env)"
   ],
   "metadata": {
    "collapsed": false,
    "pycharm": {
     "name": "#%%\n"
    }
   }
  },
  {
   "cell_type": "code",
   "execution_count": 6,
   "outputs": [],
   "source": [
    "from time import sleep\n",
    "\n",
    "env.reset()\n",
    "env.render()\n",
    "\n",
    "for agent_name in env.agent_iter():\n",
    "    agents[agent_name].play_turn(env, eval=True)\n",
    "    sleep(1)\n",
    "    env.render()"
   ],
   "metadata": {
    "collapsed": false,
    "pycharm": {
     "name": "#%%\n"
    }
   }
  },
  {
   "cell_type": "code",
   "execution_count": 7,
   "outputs": [],
   "source": [
    "env.close()"
   ],
   "metadata": {
    "collapsed": false,
    "pycharm": {
     "name": "#%%\n"
    }
   }
  }
 ],
 "metadata": {
  "kernelspec": {
   "display_name": "Python 3",
   "language": "python",
   "name": "python3"
  },
  "language_info": {
   "codemirror_mode": {
    "name": "ipython",
    "version": 2
   },
   "file_extension": ".py",
   "mimetype": "text/x-python",
   "name": "python",
   "nbconvert_exporter": "python",
   "pygments_lexer": "ipython2",
   "version": "2.7.6"
  }
 },
 "nbformat": 4,
 "nbformat_minor": 0
}